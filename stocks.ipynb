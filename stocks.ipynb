{
 "cells": [
  {
   "cell_type": "code",
   "execution_count": 15,
   "metadata": {},
   "outputs": [],
   "source": [
    "from bokeh.plotting import figure, output_file, show\n",
    "import pandas\n",
    "\n",
    "df = pandas.read_csv(\"stocks.csv\", parse_dates=[\"Date\"])\n",
    "\n",
    "x = df[\"Date\"]\n",
    "y = df[\"Close\"]\n",
    "\n",
    "p = figure(width=500, height=250, x_axis_type=\"datetime\", sizing_mode=\"stretch_both\")\n",
    "\n",
    "p.line(x, y, color=\"Red\", alpha=0.5)\n",
    "\n",
    "output_file(\"stocks_plot.html\")\n",
    "\n",
    "show(p)"
   ]
  },
  {
   "cell_type": "code",
   "execution_count": null,
   "metadata": {},
   "outputs": [],
   "source": []
  }
 ],
 "metadata": {
  "kernelspec": {
   "display_name": "Python 3",
   "language": "python",
   "name": "python3"
  },
  "language_info": {
   "codemirror_mode": {
    "name": "ipython",
    "version": 3
   },
   "file_extension": ".py",
   "mimetype": "text/x-python",
   "name": "python",
   "nbconvert_exporter": "python",
   "pygments_lexer": "ipython3",
   "version": "3.7.3"
  }
 },
 "nbformat": 4,
 "nbformat_minor": 2
}
